{
 "cells": [
  {
   "cell_type": "markdown",
   "metadata": {},
   "source": [
    "### Bibliotecas"
   ]
  },
  {
   "cell_type": "code",
   "execution_count": 81,
   "metadata": {},
   "outputs": [],
   "source": [
    "# tratamento de dados\n",
    "import pandas as pd\n",
    "import numpy as np\n",
    "\n",
    "# web scraping\n",
    "import requests\n",
    "from bs4 import BeautifulSoup"
   ]
  },
  {
   "cell_type": "code",
   "execution_count": 82,
   "metadata": {},
   "outputs": [
    {
     "name": "stdout",
     "output_type": "stream",
     "text": [
      "Requisição bem sucedida\n"
     ]
    }
   ],
   "source": [
    "# instanciando url e conectando\n",
    "url = 'http://www.ipeadata.gov.br/ExibeSerie.aspx?module=m&serid=1650971490&oper=view'\n",
    "response = requests.get(url)\n",
    "\n",
    "# verificando se a conexao deu certo e extraindo as informaçoes da tabela com os dados\n",
    "if response.status_code == 200:\n",
    "    print('Requisição bem sucedida')\n",
    "\n",
    "    soup = BeautifulSoup(response.content, 'html.parser')\n",
    "    table = soup.find('table', {'id': 'grd_DXMainTable'})\n",
    "    rows = table.find_all('tr')\n",
    "\n",
    "    data_list = []\n",
    "    price_list = []\n",
    "\n",
    "    for row in rows:\n",
    "        columns = row.find_all('td', {'class': 'dxgv'})\n",
    "\n",
    "        if len(columns) == 2:\n",
    "            data = columns[0].text.strip()\n",
    "            price = columns[1].text.strip()\n",
    "\n",
    "            data_list.append(data)\n",
    "            price_list.append(price)\n",
    "\n",
    "    df = pd.DataFrame({\n",
    "                        'data': data_list,\n",
    "                        'preco': price_list\n",
    "                    })\n",
    "\n",
    "else:\n",
    "    print('Problema na requisição')"
   ]
  },
  {
   "cell_type": "code",
   "execution_count": 83,
   "metadata": {},
   "outputs": [
    {
     "data": {
      "text/html": [
       "<div>\n",
       "<style scoped>\n",
       "    .dataframe tbody tr th:only-of-type {\n",
       "        vertical-align: middle;\n",
       "    }\n",
       "\n",
       "    .dataframe tbody tr th {\n",
       "        vertical-align: top;\n",
       "    }\n",
       "\n",
       "    .dataframe thead th {\n",
       "        text-align: right;\n",
       "    }\n",
       "</style>\n",
       "<table border=\"1\" class=\"dataframe\">\n",
       "  <thead>\n",
       "    <tr style=\"text-align: right;\">\n",
       "      <th></th>\n",
       "      <th>data</th>\n",
       "      <th>preco</th>\n",
       "    </tr>\n",
       "  </thead>\n",
       "  <tbody>\n",
       "    <tr>\n",
       "      <th>0</th>\n",
       "      <td>15/10/2024</td>\n",
       "      <td>73,68</td>\n",
       "    </tr>\n",
       "    <tr>\n",
       "      <th>1</th>\n",
       "      <td>12/10/2024</td>\n",
       "      <td>78,47</td>\n",
       "    </tr>\n",
       "  </tbody>\n",
       "</table>\n",
       "</div>"
      ],
      "text/plain": [
       "         data  preco\n",
       "0  15/10/2024  73,68\n",
       "1  12/10/2024  78,47"
      ]
     },
     "execution_count": 83,
     "metadata": {},
     "output_type": "execute_result"
    }
   ],
   "source": [
    "df.head(2)"
   ]
  },
  {
   "cell_type": "markdown",
   "metadata": {},
   "source": [
    "### Tratamento dos dados"
   ]
  },
  {
   "cell_type": "code",
   "execution_count": 84,
   "metadata": {},
   "outputs": [],
   "source": [
    "# criando copia para trabalhar com os dados\n",
    "dados_preco_petroleo = df.copy()"
   ]
  },
  {
   "cell_type": "code",
   "execution_count": 85,
   "metadata": {},
   "outputs": [],
   "source": [
    "# alterando o tipo de dados\n",
    "dados_preco_petroleo = dados_preco_petroleo.assign(\n",
    "                                                    data = pd.to_datetime(dados_preco_petroleo['data'], dayfirst=True),\n",
    "                                                    preco = dados_preco_petroleo['preco'].str.replace(',', '.').astype('float')\n",
    ")"
   ]
  },
  {
   "cell_type": "code",
   "execution_count": 86,
   "metadata": {},
   "outputs": [
    {
     "data": {
      "text/html": [
       "<div>\n",
       "<style scoped>\n",
       "    .dataframe tbody tr th:only-of-type {\n",
       "        vertical-align: middle;\n",
       "    }\n",
       "\n",
       "    .dataframe tbody tr th {\n",
       "        vertical-align: top;\n",
       "    }\n",
       "\n",
       "    .dataframe thead th {\n",
       "        text-align: right;\n",
       "    }\n",
       "</style>\n",
       "<table border=\"1\" class=\"dataframe\">\n",
       "  <thead>\n",
       "    <tr style=\"text-align: right;\">\n",
       "      <th></th>\n",
       "      <th>data</th>\n",
       "      <th>preco</th>\n",
       "    </tr>\n",
       "  </thead>\n",
       "  <tbody>\n",
       "    <tr>\n",
       "      <th>0</th>\n",
       "      <td>2024-10-15</td>\n",
       "      <td>73.68</td>\n",
       "    </tr>\n",
       "    <tr>\n",
       "      <th>1</th>\n",
       "      <td>2024-10-12</td>\n",
       "      <td>78.47</td>\n",
       "    </tr>\n",
       "    <tr>\n",
       "      <th>2</th>\n",
       "      <td>2024-10-11</td>\n",
       "      <td>80.27</td>\n",
       "    </tr>\n",
       "  </tbody>\n",
       "</table>\n",
       "</div>"
      ],
      "text/plain": [
       "        data  preco\n",
       "0 2024-10-15  73.68\n",
       "1 2024-10-12  78.47\n",
       "2 2024-10-11  80.27"
      ]
     },
     "execution_count": 86,
     "metadata": {},
     "output_type": "execute_result"
    }
   ],
   "source": [
    "dados_preco_petroleo.head(3)"
   ]
  },
  {
   "cell_type": "code",
   "execution_count": 87,
   "metadata": {},
   "outputs": [
    {
     "name": "stdout",
     "output_type": "stream",
     "text": [
      "Número de linhas: 11278\n",
      "Número de colunas: 2\n",
      "                                              \n",
      "Data mínima: 1987-05-20 00:00:00\n",
      "Data máxima: 2024-10-15 00:00:00\n"
     ]
    }
   ],
   "source": [
    "print(f'Número de linhas: {dados_preco_petroleo.shape[0]}')\n",
    "print(f'Número de colunas: {dados_preco_petroleo.shape[1]}')\n",
    "\n",
    "print('                                              ')\n",
    "\n",
    "print(f'Data mínima: {dados_preco_petroleo.data.min()}')\n",
    "print(f'Data máxima: {dados_preco_petroleo.data.max()}')"
   ]
  }
 ],
 "metadata": {
  "kernelspec": {
   "display_name": "Python 3",
   "language": "python",
   "name": "python3"
  },
  "language_info": {
   "codemirror_mode": {
    "name": "ipython",
    "version": 3
   },
   "file_extension": ".py",
   "mimetype": "text/x-python",
   "name": "python",
   "nbconvert_exporter": "python",
   "pygments_lexer": "ipython3",
   "version": "3.12.2"
  }
 },
 "nbformat": 4,
 "nbformat_minor": 2
}
